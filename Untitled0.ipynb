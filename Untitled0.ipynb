{
  "nbformat": 4,
  "nbformat_minor": 0,
  "metadata": {
    "colab": {
      "provenance": [],
      "authorship_tag": "ABX9TyMmB/bKGp9qmQvewZv0mWm9",
      "include_colab_link": true
    },
    "kernelspec": {
      "name": "python3",
      "display_name": "Python 3"
    },
    "language_info": {
      "name": "python"
    }
  },
  "cells": [
    {
      "cell_type": "markdown",
      "metadata": {
        "id": "view-in-github",
        "colab_type": "text"
      },
      "source": [
        "<a href=\"https://colab.research.google.com/github/rorychatt/loaningSystem/blob/main/Untitled0.ipynb\" target=\"_parent\"><img src=\"https://colab.research.google.com/assets/colab-badge.svg\" alt=\"Open In Colab\"/></a>"
      ]
    },
    {
      "cell_type": "markdown",
      "source": [
        "1. Setup all required Py imports"
      ],
      "metadata": {
        "id": "2mQ5KJXtK-Aj"
      }
    },
    {
      "cell_type": "code",
      "source": [
        "from datetime import datetime"
      ],
      "metadata": {
        "id": "O_SSsOwyLKe_"
      },
      "execution_count": 62,
      "outputs": []
    },
    {
      "cell_type": "markdown",
      "source": [
        "Solution 1: Simple\n"
      ],
      "metadata": {
        "id": "XumPzEjIRppL"
      }
    },
    {
      "cell_type": "code",
      "source": [
        "defaultLoanInterest = 0.1"
      ],
      "metadata": {
        "id": "1BRw6u4qWRxQ"
      },
      "execution_count": 63,
      "outputs": []
    },
    {
      "cell_type": "code",
      "source": [
        "def totalRepayAmount(disbursementsArr):\n",
        "\n",
        "  result = 0\n",
        "\n",
        "  for disbursement in disbursementsArr:\n",
        "\n",
        "    result += disbursement[0] * ( 1 + defaultLoanInterest)\n",
        "  \n",
        "  return result"
      ],
      "metadata": {
        "id": "Iubg-zPQRtfH"
      },
      "execution_count": 64,
      "outputs": []
    },
    {
      "cell_type": "markdown",
      "source": [
        "Test solution 1\n"
      ],
      "metadata": {
        "id": "WvLwK4-aSsA4"
      }
    },
    {
      "cell_type": "code",
      "source": [
        "disbursements = [\n",
        "    (2000., datetime.strptime('01-09-22', '%d-%m-%y')),\n",
        "    (1000., datetime.strptime('01-03-22', '%d-%m-%y')),\n",
        "    (320., datetime.strptime('01-01-23', '%d-%m-%y'))\n",
        "                 ]"
      ],
      "metadata": {
        "id": "cv4raItfS0Bc"
      },
      "execution_count": 65,
      "outputs": []
    },
    {
      "cell_type": "code",
      "source": [
        "print(\"Total repay at the end of the credit %s of currency\" % totalRepayAmount(disbursements))"
      ],
      "metadata": {
        "colab": {
          "base_uri": "https://localhost:8080/"
        },
        "id": "J4Gp4l5QaFQM",
        "outputId": "646db852-0ed7-4b3c-e4d8-77442178b2aa"
      },
      "execution_count": 66,
      "outputs": [
        {
          "output_type": "stream",
          "name": "stdout",
          "text": [
            "Total repay at the end of the credit 3652.0 of currency\n"
          ]
        }
      ]
    },
    {
      "cell_type": "markdown",
      "source": [
        "Solution 2: Compressed functions and np"
      ],
      "metadata": {
        "id": "dGSFRElUUP4p"
      }
    },
    {
      "cell_type": "code",
      "source": [
        "import numpy as np"
      ],
      "metadata": {
        "id": "5a5XNzuEUYr1"
      },
      "execution_count": 67,
      "outputs": []
    },
    {
      "cell_type": "code",
      "source": [
        "def totalRepayAmountQuick(disbursementsArr):\n",
        "  return round(np.sum(np.fromiter((x[0] for x in disbursementsArr), float), axis = 0)*(1 + defaultLoanInterest))"
      ],
      "metadata": {
        "id": "0835hvgGUbUI"
      },
      "execution_count": 68,
      "outputs": []
    },
    {
      "cell_type": "code",
      "source": [
        "print(\"Total repay at the end of the credit %s of currency\" % totalRepayAmountQuick(disbursements))"
      ],
      "metadata": {
        "colab": {
          "base_uri": "https://localhost:8080/"
        },
        "id": "DxYLSaXpU0XV",
        "outputId": "9d449304-955a-4793-ff9c-478dcf0664a2"
      },
      "execution_count": 69,
      "outputs": [
        {
          "output_type": "stream",
          "name": "stdout",
          "text": [
            "Total repay at the end of the credit 3652 of currency\n"
          ]
        }
      ]
    },
    {
      "cell_type": "markdown",
      "source": [
        "Solution 3: With classess\n"
      ],
      "metadata": {
        "id": "t-3HyywsLm9Z"
      }
    },
    {
      "cell_type": "code",
      "source": [
        "defaultInterest = 0.1\n",
        "\n",
        "class Disbursement:\n",
        "\n",
        "  loanAmount = 0\n",
        "  interest = defaultInterest\n",
        "  date = datetime.now().strftime('%d-%m-%y')\n",
        "\n",
        "  def __init__(self, loanAmount, date, interest):\n",
        "    self.loanAmount = loanAmount\n",
        "    self.date = date\n",
        "    self.interest = interest\n",
        "  \n",
        "  def __init__(self, loanAmount, date):\n",
        "    self.loanAmount = loanAmount\n",
        "    self.date = date\n",
        "\n",
        "  def __init__(self, loanAmount):\n",
        "    self.loanAmount = loanAmount\n",
        "\n",
        "  def getEndPay(self):\n",
        "    return self.loanAmount * ( 1 + self.interest)"
      ],
      "metadata": {
        "id": "017bJn5gLf6o"
      },
      "execution_count": 70,
      "outputs": []
    },
    {
      "cell_type": "code",
      "source": [
        "disbursements = [Disbursement(2000), Disbursement(1000), Disbursement(320)]"
      ],
      "metadata": {
        "id": "Q0c88VuGXqBR"
      },
      "execution_count": 71,
      "outputs": []
    },
    {
      "cell_type": "code",
      "source": [
        "def getTotalRepayClasses(disbursements):\n",
        "  result = 0\n",
        "  for disbursement in disbursements:\n",
        "    result += disbursement.getEndPay();\n",
        "  return result"
      ],
      "metadata": {
        "id": "3T1hviqtYt99"
      },
      "execution_count": 72,
      "outputs": []
    },
    {
      "cell_type": "code",
      "source": [
        "print(\"Total repay at the end of the credit %s of currency\" % getTotalRepayClasses(disbursements))"
      ],
      "metadata": {
        "colab": {
          "base_uri": "https://localhost:8080/"
        },
        "id": "WSG8gbjQZra6",
        "outputId": "1ea3c5b6-4c42-495d-fc08-66c74efbcdec"
      },
      "execution_count": 73,
      "outputs": [
        {
          "output_type": "stream",
          "name": "stdout",
          "text": [
            "Total repay at the end of the credit 3652.0 of currency\n"
          ]
        }
      ]
    },
    {
      "cell_type": "markdown",
      "source": [
        "And many other ways...\n"
      ],
      "metadata": {
        "id": "W8rn072gaUS-"
      }
    },
    {
      "cell_type": "markdown",
      "source": [],
      "metadata": {
        "id": "t5mY9udebPFA"
      }
    }
  ]
}