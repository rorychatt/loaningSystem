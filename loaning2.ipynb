{
  "nbformat": 4,
  "nbformat_minor": 0,
  "metadata": {
    "colab": {
      "provenance": [],
      "collapsed_sections": [],
      "authorship_tag": "ABX9TyPbyqBn/CGAND3XG+niqJ8X",
      "include_colab_link": true
    },
    "kernelspec": {
      "name": "python3",
      "display_name": "Python 3"
    },
    "language_info": {
      "name": "python"
    }
  },
  "cells": [
    {
      "cell_type": "markdown",
      "metadata": {
        "id": "view-in-github",
        "colab_type": "text"
      },
      "source": [
        "<a href=\"https://colab.research.google.com/github/rorychatt/loaningSystem/blob/main/loaning2.ipynb\" target=\"_parent\"><img src=\"https://colab.research.google.com/assets/colab-badge.svg\" alt=\"Open In Colab\"/></a>"
      ]
    },
    {
      "cell_type": "markdown",
      "source": [
        "1. Setup all required Py imports"
      ],
      "metadata": {
        "id": "2mQ5KJXtK-Aj"
      }
    },
    {
      "cell_type": "code",
      "source": [
        "from datetime import datetime\n",
        "import numpy as np"
      ],
      "metadata": {
        "id": "O_SSsOwyLKe_"
      },
      "execution_count": 65,
      "outputs": []
    },
    {
      "cell_type": "code",
      "source": [
        "defaultLoanInterest = 0.1\n",
        "\n",
        "daysInYear = 365"
      ],
      "metadata": {
        "id": "1BRw6u4qWRxQ"
      },
      "execution_count": 66,
      "outputs": []
    },
    {
      "cell_type": "code",
      "source": [
        "def totalRepayAmount(disbursementsArr):\n",
        "\n",
        "  #Sort data by dates from smallest to highes\n",
        "\n",
        "  result = 0\n",
        "\n",
        "  smallestDate = np.amin(disbursementsArr, axis=0)[1]\n",
        "\n",
        "  loanReturnDate = smallestDate.replace(year = smallestDate.year + 1)\n",
        "\n",
        "  for disbursement in disbursementsArr:\n",
        "\n",
        "    partFromYear = (loanReturnDate - disbursement[1]).days / daysInYear\n",
        "\n",
        "    result = disbursement[0] + disbursement[0] * defaultLoanInterest * partFromYear + result\n",
        "  \n",
        "  return result"
      ],
      "metadata": {
        "id": "Iubg-zPQRtfH"
      },
      "execution_count": 67,
      "outputs": []
    },
    {
      "cell_type": "markdown",
      "source": [
        "Test solution 1\n"
      ],
      "metadata": {
        "id": "WvLwK4-aSsA4"
      }
    },
    {
      "cell_type": "code",
      "source": [
        "disbursements = [\n",
        "    (2000., datetime.strptime('01-09-22', '%d-%m-%y')),\n",
        "    (1000., datetime.strptime('01-03-22', '%d-%m-%y')),\n",
        "    (320., datetime.strptime('01-01-23', '%d-%m-%y'))\n",
        "                 ]"
      ],
      "metadata": {
        "id": "cv4raItfS0Bc"
      },
      "execution_count": 68,
      "outputs": []
    },
    {
      "cell_type": "code",
      "source": [
        "print(\"Total repay at the end of the credit %s of currency\" % totalRepayAmount(disbursements))"
      ],
      "metadata": {
        "colab": {
          "base_uri": "https://localhost:8080/"
        },
        "id": "J4Gp4l5QaFQM",
        "outputId": "dddc435d-7282-4655-fef4-a680cdf10ecd"
      },
      "execution_count": 69,
      "outputs": [
        {
          "output_type": "stream",
          "name": "stdout",
          "text": [
            "Total repay at the end of the credit 3524.350684931507 of currency\n"
          ]
        }
      ]
    }
  ]
}